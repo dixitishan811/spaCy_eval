{
  "nbformat": 4,
  "nbformat_minor": 0,
  "metadata": {
    "colab": {
      "name": "eval.ipynb",
      "provenance": [],
      "toc_visible": true
    },
    "kernelspec": {
      "display_name": "Python 3",
      "language": "python",
      "name": "python3"
    },
    "language_info": {
      "codemirror_mode": {
        "name": "ipython",
        "version": 3
      },
      "file_extension": ".py",
      "mimetype": "text/x-python",
      "name": "python",
      "nbconvert_exporter": "python",
      "pygments_lexer": "ipython3",
      "version": "3.7.7"
    }
  },
  "cells": [
    {
      "cell_type": "code",
      "metadata": {
        "colab_type": "code",
        "id": "YFEvosBjmN_G",
        "colab": {}
      },
      "source": [
        "import numpy as np\n",
        "import pandas as pd\n",
        "import spacy\n",
        "import json\n",
        "from sklearn.metrics import f1_score, confusion_matrix, roc_curve,accuracy_score"
      ],
      "execution_count": 0,
      "outputs": []
    },
    {
      "cell_type": "code",
      "metadata": {
        "colab_type": "code",
        "id": "50A-I3c9qf5D",
        "colab": {}
      },
      "source": [
        "nlp = spacy.load('en_core_web_sm')\n",
        "f = open('OntoNotes.json', \"r\")\n",
        "train_data = json.loads(f.read())"
      ],
      "execution_count": 0,
      "outputs": []
    },
    {
      "cell_type": "code",
      "metadata": {
        "colab_type": "code",
        "id": "EbxDN19vuQVW",
        "colab": {}
      },
      "source": [
        "ls = []\n",
        "for i in range(len(train_data)):\n",
        "    ls.append(train_data[i][0])"
      ],
      "execution_count": 0,
      "outputs": []
    },
    {
      "cell_type": "code",
      "metadata": {
        "colab_type": "code",
        "id": "5MILDTv80Osh",
        "colab": {}
      },
      "source": [
        "true = []\n",
        "for _, annotations in train_data:\n",
        "    for ent in annotations.get('entities'):\n",
        "        if ent[2] == 'ORG':\n",
        "            true.append(1)\n",
        "            break\n",
        "        else:\n",
        "            true.append(0)\n",
        "            break"
      ],
      "execution_count": 0,
      "outputs": []
    },
    {
      "cell_type": "code",
      "metadata": {
        "colab_type": "code",
        "id": "yJlRiF7kvlbK",
        "colab": {}
      },
      "source": [
        "pred = []\n",
        "nt_annt = []\n",
        "for sentence in ls:\n",
        "    doc = nlp(sentence)\n",
        "    if not doc.ents:\n",
        "        pred.append(-1)\n",
        "        nt_annt.append(sentence)\n",
        "    for ent in doc.ents:\n",
        "        if ent.label_ == 'ORG':\n",
        "            pred.append(1)\n",
        "            break\n",
        "        else:\n",
        "            pred.append(0)\n",
        "            break"
      ],
      "execution_count": 0,
      "outputs": []
    },
    {
      "cell_type": "code",
      "metadata": {
        "id": "3k2Z85PQSavK",
        "colab_type": "code",
        "colab": {
          "base_uri": "https://localhost:8080/",
          "height": 34
        },
        "outputId": "147963a7-16dd-423c-b976-8b4e8ff3688f"
      },
      "source": [
        "accuracy_score(true,pred)"
      ],
      "execution_count": 25,
      "outputs": [
        {
          "output_type": "execute_result",
          "data": {
            "text/plain": [
              "0.9676"
            ]
          },
          "metadata": {
            "tags": []
          },
          "execution_count": 25
        }
      ]
    },
    {
      "cell_type": "code",
      "metadata": {
        "colab_type": "code",
        "id": "ivpa6gO_vybe",
        "outputId": "771c87c2-64e4-4baa-c99e-56785c854791",
        "colab": {
          "base_uri": "https://localhost:8080/",
          "height": 34
        }
      },
      "source": [
        "f1_score(true,pred,average=None)"
      ],
      "execution_count": 6,
      "outputs": [
        {
          "output_type": "execute_result",
          "data": {
            "text/plain": [
              "array([0.        , 0.98101418, 0.91691935])"
            ]
          },
          "metadata": {
            "tags": []
          },
          "execution_count": 6
        }
      ]
    },
    {
      "cell_type": "code",
      "metadata": {
        "colab_type": "code",
        "id": "aQHElZtXzu9E",
        "outputId": "977a0909-b78e-410a-c388-4bc92451259d",
        "colab": {
          "base_uri": "https://localhost:8080/",
          "height": 67
        }
      },
      "source": [
        "confusion_matrix(true, pred)"
      ],
      "execution_count": 7,
      "outputs": [
        {
          "output_type": "execute_result",
          "data": {
            "text/plain": [
              "array([[   0,    0,    0],\n",
              "       [  25, 4082,   98],\n",
              "       [   4,   35,  756]])"
            ]
          },
          "metadata": {
            "tags": []
          },
          "execution_count": 7
        }
      ]
    },
    {
      "cell_type": "code",
      "metadata": {
        "colab_type": "code",
        "id": "gte4p9NN52hx",
        "colab": {}
      },
      "source": [
        "fpr, tpr, thresholds = roc_curve(true, pred, pos_label=None)"
      ],
      "execution_count": 0,
      "outputs": []
    },
    {
      "cell_type": "code",
      "metadata": {
        "colab_type": "code",
        "id": "rbkFw8iuGysk",
        "outputId": "ef08f513-ecc4-4806-950c-cb1ab65bcc30",
        "colab": {
          "base_uri": "https://localhost:8080/",
          "height": 67
        }
      },
      "source": [
        "fpr, tpr, thresholds"
      ],
      "execution_count": 9,
      "outputs": [
        {
          "output_type": "execute_result",
          "data": {
            "text/plain": [
              "(array([0.        , 0.02330559, 0.9940547 , 1.        ]),\n",
              " array([0.        , 0.9509434 , 0.99496855, 1.        ]),\n",
              " array([ 2,  1,  0, -1]))"
            ]
          },
          "metadata": {
            "tags": []
          },
          "execution_count": 9
        }
      ]
    },
    {
      "cell_type": "code",
      "metadata": {
        "colab_type": "code",
        "id": "HVqMyl9bTGEy",
        "colab": {
          "base_uri": "https://localhost:8080/",
          "height": 541
        },
        "outputId": "8e229417-dc39-4203-c231-523bc81985b3"
      },
      "source": [
        "\n",
        "dct = {}\n",
        "for text, annotations in train_data:\n",
        "    temp = []\n",
        "    if text in nt_annt:\n",
        "        for ent in annotations.get('entities'):\n",
        "            temp.append(ent[2])\n",
        "        dct[text] = temp\n",
        "\n",
        "dct     "
      ],
      "execution_count": 12,
      "outputs": [
        {
          "output_type": "execute_result",
          "data": {
            "text/plain": [
              "{\"A breakthrough in the investigation of the terrorist attack on the `` USS Cole . ''\": ['PRODUCT'],\n",
              " 'A senior enlisted man says he would have been killed if he had not been called to a meeting moments before the blast .': ['TIME'],\n",
              " 'Actor Drugewbo Unitich tells how the show began .': ['PERSON'],\n",
              " 'Considering the prices , uh , people feel that a discount of over 20,000 Yuan in this period is quite appropriate .': ['QUANTITY'],\n",
              " 'He no longer expects to see the end of the cave in his lifetime .': ['DATE'],\n",
              " \"If this is one way that we can send the signal that terrorists need to be held accountable for what they do , that 's what this is about .\": ['CARDINAL'],\n",
              " 'In fact , equal protection became the single issue this divided court could find a majority to support .': ['CARDINAL'],\n",
              " \"It 's the latest hit by the satirical theater called `` Index '' .\": ['ORG'],\n",
              " 'It is one of the major questions that was supposed to be addressed after the stoning and shooting had stopped .': ['CARDINAL'],\n",
              " \"Little George 's parents and relatives encourage him to take advantage of the gifts which he naturally possesses to make himself a famous person .\": ['PERSON'],\n",
              " \"Now `` The Truth Squad , '' a reality check on the candidates .\": ['ORG'],\n",
              " \"The Secretary General 's report says democracy can develop anywhere and that it is a common misperception that democracy is a Western concept .\": ['NORP'],\n",
              " 'The draft resolution has already been revised once .': ['ORDINAL'],\n",
              " 'The results of their research will be published in the latest edition of the journal Astrobiology .': ['ORG'],\n",
              " \"The spokeswoman for this Settlers ' Council Yahudi Tayar says this is unacceptable .\": ['ORG',\n",
              "  'PERSON'],\n",
              " \"There 's one very difficult condition .\": ['CARDINAL'],\n",
              " \"There are any number of complications , one of which is that as part of the submarine is stuck in sand and clay on the seabed , so that 's going to give resistance once they do try to lift it .\": ['CARDINAL'],\n",
              " 'There was no major reaction on Wall Street .': ['FAC'],\n",
              " \"They 've killed right here in one of the busiest areas , where there are lots of cars and people , and where there are plenty of police that should be easily be able to control this area .\": ['CARDINAL'],\n",
              " \"This was an all - white , all - christian community that all the sudden was taken over -- not taken over , that 's a very bad choice of words , but invaded by , perhaps different groups .\": ['NORP'],\n",
              " 'Wait a minute , you said that on your table at the end .': ['TIME'],\n",
              " \"We 'll begin with the `` USS Cole . ''\": ['PRODUCT'],\n",
              " \"We do n't want Mugabe .\": ['PERSON'],\n",
              " \"We were led to believe that the attack occurred just as the `` USS Cole '' was tying up .\": ['PRODUCT'],\n",
              " 'Western hip - hop lyrics often revolve around the accumulation of material wealth and throwing parties .': ['NORP'],\n",
              " \"What 's one of its purposes ?\": ['CARDINAL'],\n",
              " 'When the numbers are in trillions , with promises to match , keep your hand on your wallet .': ['CARDINAL'],\n",
              " \"Yeah , it 's under my chin , but I do n't feel but there is also one on my hand here .\": ['CARDINAL'],\n",
              " 'abcnews.com has up to the minute reporting on travel in the country .': ['TIME']}"
            ]
          },
          "metadata": {
            "tags": []
          },
          "execution_count": 12
        }
      ]
    },
    {
      "cell_type": "code",
      "metadata": {
        "colab_type": "code",
        "id": "UpXbTEHTrQ6I",
        "colab": {}
      },
      "source": [
        "f_ = open('Enron_sentences.json', \"r\")\n",
        "\n",
        "target_data = json.loads(f_.read())"
      ],
      "execution_count": 0,
      "outputs": []
    },
    {
      "cell_type": "code",
      "metadata": {
        "colab_type": "code",
        "id": "wy3nCtFvzuqy",
        "colab": {}
      },
      "source": [
        "lst_txt=[]\n",
        "for i in range(len(target_data)):\n",
        "    lst_txt.append(target_data[i].get('text'))"
      ],
      "execution_count": 0,
      "outputs": []
    },
    {
      "cell_type": "code",
      "metadata": {
        "colab_type": "code",
        "id": "dyUeTOER0iqQ",
        "colab": {}
      },
      "source": [
        "lst_he = []\n",
        "for i in range(len(target_data)):\n",
        "    vals = list((target_data[i].get('human_entities').values()))\n",
        "    if vals:\n",
        "        lst_he.append(vals[0])\n",
        "    else:\n",
        "        lst_he.append('No_changes')"
      ],
      "execution_count": 0,
      "outputs": []
    },
    {
      "cell_type": "code",
      "metadata": {
        "colab_type": "code",
        "id": "YS6cdrYL6kCc",
        "colab": {}
      },
      "source": [
        "lst_me = []\n",
        "for i in range(len(target_data)):\n",
        "    temp = []\n",
        "    if target_data[i].get('machine_entities'):\n",
        "        for ents in target_data[i].get('machine_entities'):\n",
        "            temp.append(ents[2])\n",
        "        lst_me.append(temp)\n",
        "    else:\n",
        "        lst_me.append([])"
      ],
      "execution_count": 0,
      "outputs": []
    },
    {
      "cell_type": "code",
      "metadata": {
        "id": "uFjb6jhBLpQD",
        "colab_type": "code",
        "colab": {}
      },
      "source": [
        "df = pd.DataFrame()"
      ],
      "execution_count": 0,
      "outputs": []
    },
    {
      "cell_type": "code",
      "metadata": {
        "colab_type": "code",
        "id": "U5W20HhQ-6fE",
        "colab": {}
      },
      "source": [
        "dict_clmns = {\n",
        "    'Text': lst_txt,\n",
        "    'machine_entities': lst_me,\n",
        "    'human_entities': lst_he\n",
        "}\n",
        "df = df.assign(**dict_clmns)"
      ],
      "execution_count": 0,
      "outputs": []
    },
    {
      "cell_type": "code",
      "metadata": {
        "colab_type": "code",
        "id": "6cTWGbYz_Cso",
        "outputId": "c585fd80-7f24-4461-f7c3-421b66f3790f",
        "colab": {
          "base_uri": "https://localhost:8080/",
          "height": 402
        }
      },
      "source": [
        "df"
      ],
      "execution_count": 22,
      "outputs": [
        {
          "output_type": "execute_result",
          "data": {
            "text/html": [
              "<div>\n",
              "<style scoped>\n",
              "    .dataframe tbody tr th:only-of-type {\n",
              "        vertical-align: middle;\n",
              "    }\n",
              "\n",
              "    .dataframe tbody tr th {\n",
              "        vertical-align: top;\n",
              "    }\n",
              "\n",
              "    .dataframe thead th {\n",
              "        text-align: right;\n",
              "    }\n",
              "</style>\n",
              "<table border=\"1\" class=\"dataframe\">\n",
              "  <thead>\n",
              "    <tr style=\"text-align: right;\">\n",
              "      <th></th>\n",
              "      <th>Text</th>\n",
              "      <th>machine_entities</th>\n",
              "      <th>human_entities</th>\n",
              "    </tr>\n",
              "  </thead>\n",
              "  <tbody>\n",
              "    <tr>\n",
              "      <th>0</th>\n",
              "      <td>Shelley: Do you have any information on Projec...</td>\n",
              "      <td>[ORG]</td>\n",
              "      <td>No_changes</td>\n",
              "    </tr>\n",
              "    <tr>\n",
              "      <th>1</th>\n",
              "      <td>The address list on the memo below contains th...</td>\n",
              "      <td>[ORG]</td>\n",
              "      <td>No_changes</td>\n",
              "    </tr>\n",
              "    <tr>\n",
              "      <th>2</th>\n",
              "      <td>Mary, Jason Orta from the CEC called me to inf...</td>\n",
              "      <td>[ORG]</td>\n",
              "      <td>No_changes</td>\n",
              "    </tr>\n",
              "    <tr>\n",
              "      <th>3</th>\n",
              "      <td>Sierra Pacific was listed as CEC 10016 and sho...</td>\n",
              "      <td>[ORG]</td>\n",
              "      <td>No_changes</td>\n",
              "    </tr>\n",
              "    <tr>\n",
              "      <th>4</th>\n",
              "      <td>I have made this correction in EPMI's CEC fili...</td>\n",
              "      <td>[ORG, ORG]</td>\n",
              "      <td>[[31, 35, ORG, machine]]</td>\n",
              "    </tr>\n",
              "    <tr>\n",
              "      <th>...</th>\n",
              "      <td>...</td>\n",
              "      <td>...</td>\n",
              "      <td>...</td>\n",
              "    </tr>\n",
              "    <tr>\n",
              "      <th>305</th>\n",
              "      <td>I added Meredith's photo to the web page below...</td>\n",
              "      <td>[ORG]</td>\n",
              "      <td>No_changes</td>\n",
              "    </tr>\n",
              "    <tr>\n",
              "      <th>306</th>\n",
              "      <td>I got him a subscription to Sports Illustrated...</td>\n",
              "      <td>[ORG]</td>\n",
              "      <td>No_changes</td>\n",
              "    </tr>\n",
              "    <tr>\n",
              "      <th>307</th>\n",
              "      <td>I assume that all ENA Upstream deal makers goi...</td>\n",
              "      <td>[ORG]</td>\n",
              "      <td>[[18, 21, , human]]</td>\n",
              "    </tr>\n",
              "    <tr>\n",
              "      <th>308</th>\n",
              "      <td>The ERCOT Board accepted the 3 CSC 4 CM Zone m...</td>\n",
              "      <td>[ORG]</td>\n",
              "      <td>[[0, 3, , human], [4, 9, ORG, human]]</td>\n",
              "    </tr>\n",
              "    <tr>\n",
              "      <th>309</th>\n",
              "      <td>Paul I am still looking for information relati...</td>\n",
              "      <td>[]</td>\n",
              "      <td>[[64, 66, ORG, human]]</td>\n",
              "    </tr>\n",
              "  </tbody>\n",
              "</table>\n",
              "<p>310 rows × 3 columns</p>\n",
              "</div>"
            ],
            "text/plain": [
              "                                                  Text  ...                         human_entities\n",
              "0    Shelley: Do you have any information on Projec...  ...                             No_changes\n",
              "1    The address list on the memo below contains th...  ...                             No_changes\n",
              "2    Mary, Jason Orta from the CEC called me to inf...  ...                             No_changes\n",
              "3    Sierra Pacific was listed as CEC 10016 and sho...  ...                             No_changes\n",
              "4    I have made this correction in EPMI's CEC fili...  ...               [[31, 35, ORG, machine]]\n",
              "..                                                 ...  ...                                    ...\n",
              "305  I added Meredith's photo to the web page below...  ...                             No_changes\n",
              "306  I got him a subscription to Sports Illustrated...  ...                             No_changes\n",
              "307  I assume that all ENA Upstream deal makers goi...  ...                    [[18, 21, , human]]\n",
              "308  The ERCOT Board accepted the 3 CSC 4 CM Zone m...  ...  [[0, 3, , human], [4, 9, ORG, human]]\n",
              "309  Paul I am still looking for information relati...  ...                 [[64, 66, ORG, human]]\n",
              "\n",
              "[310 rows x 3 columns]"
            ]
          },
          "metadata": {
            "tags": []
          },
          "execution_count": 22
        }
      ]
    },
    {
      "cell_type": "code",
      "metadata": {
        "colab_type": "code",
        "id": "Gv9HnibLC9Sl",
        "colab": {}
      },
      "source": [
        ""
      ],
      "execution_count": 0,
      "outputs": []
    }
  ]
}